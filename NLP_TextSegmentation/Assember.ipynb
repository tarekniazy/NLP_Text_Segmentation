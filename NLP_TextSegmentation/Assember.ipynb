{
 "metadata": {
  "language_info": {
   "codemirror_mode": {
    "name": "ipython",
    "version": 3
   },
   "file_extension": ".py",
   "mimetype": "text/x-python",
   "name": "python",
   "nbconvert_exporter": "python",
   "pygments_lexer": "ipython3",
   "version": "3.8.5"
  },
  "orig_nbformat": 2,
  "kernelspec": {
   "name": "python3",
   "display_name": "Python 3",
   "language": "python"
  }
 },
 "nbformat": 4,
 "nbformat_minor": 2,
 "cells": [
  {
   "cell_type": "code",
   "execution_count": 16,
   "metadata": {},
   "outputs": [
    {
     "output_type": "stream",
     "name": "stdout",
     "text": [
      "['.ORG 0  ', 'this means the the following line would be  at address  0 , and this is the reset address\\n']\n['10\\n']\n['\\n']\n['.ORG 2  ', 'this is the interrupt address\\n']\n['100\\n']\n['\\n']\n['.ORG 10\\n']\n['in R1        ', 'add 5 in R1\\n']\n['in R2        ', 'add 19 in R2\\n']\n['in R3        ', 'FFFFFFF\\n']\n['in R4        ', 'FFFFF320\\n']\n['MoV R3,R5    ', 'R5 = FFFFFFFF , flags no change\\n']\n['ADD R1,R4    ', 'R4= FFFFF325 , C-->0, N-->1, Z-->0\\n']\n['SUB R5,R4    ', 'R4= 00000CDA , C-->1, N-->0,Z-->0\\n']\n['AND R6,R4    ', 'R4= 00000000 , C-->no change, N-->0, Z-->1\\n']\n['OR  R2,R1    ', 'R1=1D  , C--> no change, N-->0, Z--> 0\\n']\n['SHL R2,2     ', 'R2=64  , C--> 0, N -->0 , Z -->0\\n']\n['SHR R2,3     ', 'R2=0C  , C -->1, N-->0 , Z-->0\\n']\n['IADD R2,FFFF ', 'R2= 0001000B (C,N,Z= 0)\\n']\n['ADD R1,R2    ', 'R2= 00010028 (C,N,Z= 0)']\n['', ' all numbers in hex format\\n']\n['', ' we always start by reset signal\\n']\n['', 'this is a commented line\\n']\n['.ORG 0  ', 'this means the the following line would be  at address  0 , and this is the reset address\\n']\n['10\\n']\n['', 'you should ignore empty lines\\n']\n['.ORG 2  ', 'this is the interrupt address\\n']\n['100\\n']\n['.ORG 10\\n']\n['in R1        ', 'add 5 in R1\\n']\n['in R2        ', 'add 19 in R2\\n']\n['in R3        ', 'FFFFFFF\\n']\n['in R4        ', 'FFFFF320\\n']\n['MoV R3,R5    ', 'R5 = FFFFFFFF , flags no change\\n']\n['ADD R1,R4    ', 'R4= FFFFF325 , C-->0, N-->1, Z-->0\\n']\n['SUB R5,R4    ', 'R4= 00000CDA , C-->1, N-->0,Z-->0\\n']\n['AND R6,R4    ', 'R4= 00000000 , C-->no change, N-->0, Z-->1\\n']\n['OR  R2,R1    ', 'R1=1D  , C--> no change, N-->0, Z--> 0\\n']\n['SHL R2,2     ', 'R2=64  , C--> 0, N -->0 , Z -->0\\n']\n['SHR R2,3     ', 'R2=0C  , C -->1, N-->0 , Z-->0\\n']\n['IADD R2,FFFF ', 'R2= 0001000B (C,N,Z= 0)\\n']\n['ADD R1,R2    ', 'R2= 00010028 (C,N,Z= 0)']\n"
     ]
    }
   ],
   "source": [
    "import re\n",
    "my_file_handle=open(\"instruction.txt\",'r')\n",
    "data=my_file_handle.readlines()\n",
    "finaldata=[]\n",
    "finaldata2=[]\n",
    "finaldata3=[]\n",
    "\n",
    "\n",
    "for i in data:\n",
    "    if not (i.startswith(\"#\")):\n",
    "        finaldata.append(i)\n",
    "\n",
    "for i in data:\n",
    "    if not (i.startswith(\"\\n\")):\n",
    "        finaldata.append(i)\n",
    "\n",
    "\n",
    "\n",
    "for i in finaldata:\n",
    "    finaldata2.append(re.split('#',i))\n",
    "\n",
    "for i in finaldata2:\n",
    "   if not (i.startswith(\"\\n\")):\n",
    "        finaldata3.append(i)\n",
    "\n",
    "for i in finaldata2:\n",
    "    print(i)\n"
   ]
  },
  {
   "cell_type": "code",
   "execution_count": null,
   "metadata": {},
   "outputs": [],
   "source": []
  }
 ]
}